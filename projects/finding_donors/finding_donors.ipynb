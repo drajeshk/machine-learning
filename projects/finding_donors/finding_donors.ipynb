{
 "cells": [
  {
   "cell_type": "markdown",
   "metadata": {},
   "source": [
    "# Machine Learning Engineer Nanodegree\n",
    "## Supervised Learning\n",
    "## Project: Finding Donors for *CharityML*"
   ]
  },
  {
   "cell_type": "markdown",
   "metadata": {},
   "source": [
    "Welcome to the second project of the Machine Learning Engineer Nanodegree! In this notebook, some template code has already been provided for you, and it will be your job to implement the additional functionality necessary to successfully complete this project. Sections that begin with **'Implementation'** in the header indicate that the following block of code will require additional functionality which you must provide. Instructions will be provided for each section and the specifics of the implementation are marked in the code block with a `'TODO'` statement. Please be sure to read the instructions carefully!\n",
    "\n",
    "In addition to implementing code, there will be questions that you must answer which relate to the project and your implementation. Each section where you will answer a question is preceded by a **'Question X'** header. Carefully read each question and provide thorough answers in the following text boxes that begin with **'Answer:'**. Your project submission will be evaluated based on your answers to each of the questions and the implementation you provide.  \n",
    "\n",
    ">**Note:** Please specify WHICH VERSION OF PYTHON you are using when submitting this notebook. Code and Markdown cells can be executed using the **Shift + Enter** keyboard shortcut. In addition, Markdown cells can be edited by typically double-clicking the cell to enter edit mode."
   ]
  },
  {
   "cell_type": "markdown",
   "metadata": {},
   "source": [
    "## Getting Started\n",
    "\n",
    "In this project, you will employ several supervised algorithms of your choice to accurately model individuals' income using data collected from the 1994 U.S. Census. You will then choose the best candidate algorithm from preliminary results and further optimize this algorithm to best model the data. Your goal with this implementation is to construct a model that accurately predicts whether an individual makes more than $50,000. This sort of task can arise in a non-profit setting, where organizations survive on donations.  Understanding an individual's income can help a non-profit better understand how large of a donation to request, or whether or not they should reach out to begin with.  While it can be difficult to determine an individual's general income bracket directly from public sources, we can (as we will see) infer this value from other publically available features. \n",
    "\n",
    "The dataset for this project originates from the [UCI Machine Learning Repository](https://archive.ics.uci.edu/ml/datasets/Census+Income). The datset was donated by Ron Kohavi and Barry Becker, after being published in the article _\"Scaling Up the Accuracy of Naive-Bayes Classifiers: A Decision-Tree Hybrid\"_. You can find the article by Ron Kohavi [online](https://www.aaai.org/Papers/KDD/1996/KDD96-033.pdf). The data we investigate here consists of small changes to the original dataset, such as removing the `'fnlwgt'` feature and records with missing or ill-formatted entries."
   ]
  },
  {
   "cell_type": "markdown",
   "metadata": {},
   "source": [
    "----\n",
    "## Exploring the Data\n",
    "Run the code cell below to load necessary Python libraries and load the census data. Note that the last column from this dataset, `'income'`, will be our target label (whether an individual makes more than, or at most, $50,000 annually). All other columns are features about each individual in the census database."
   ]
  },
  {
   "cell_type": "code",
   "execution_count": 1,
   "metadata": {},
   "outputs": [
    {
     "data": {
      "text/html": [
       "<div>\n",
       "<style>\n",
       "    .dataframe thead tr:only-child th {\n",
       "        text-align: right;\n",
       "    }\n",
       "\n",
       "    .dataframe thead th {\n",
       "        text-align: left;\n",
       "    }\n",
       "\n",
       "    .dataframe tbody tr th {\n",
       "        vertical-align: top;\n",
       "    }\n",
       "</style>\n",
       "<table border=\"1\" class=\"dataframe\">\n",
       "  <thead>\n",
       "    <tr style=\"text-align: right;\">\n",
       "      <th></th>\n",
       "      <th>age</th>\n",
       "      <th>workclass</th>\n",
       "      <th>education_level</th>\n",
       "      <th>education-num</th>\n",
       "      <th>marital-status</th>\n",
       "      <th>occupation</th>\n",
       "      <th>relationship</th>\n",
       "      <th>race</th>\n",
       "      <th>sex</th>\n",
       "      <th>capital-gain</th>\n",
       "      <th>capital-loss</th>\n",
       "      <th>hours-per-week</th>\n",
       "      <th>native-country</th>\n",
       "      <th>income</th>\n",
       "    </tr>\n",
       "  </thead>\n",
       "  <tbody>\n",
       "    <tr>\n",
       "      <th>0</th>\n",
       "      <td>39</td>\n",
       "      <td>State-gov</td>\n",
       "      <td>Bachelors</td>\n",
       "      <td>13.0</td>\n",
       "      <td>Never-married</td>\n",
       "      <td>Adm-clerical</td>\n",
       "      <td>Not-in-family</td>\n",
       "      <td>White</td>\n",
       "      <td>Male</td>\n",
       "      <td>2174.0</td>\n",
       "      <td>0.0</td>\n",
       "      <td>40.0</td>\n",
       "      <td>United-States</td>\n",
       "      <td>&lt;=50K</td>\n",
       "    </tr>\n",
       "  </tbody>\n",
       "</table>\n",
       "</div>"
      ],
      "text/plain": [
       "   age   workclass education_level  education-num  marital-status  \\\n",
       "0   39   State-gov       Bachelors           13.0   Never-married   \n",
       "\n",
       "      occupation    relationship    race    sex  capital-gain  capital-loss  \\\n",
       "0   Adm-clerical   Not-in-family   White   Male        2174.0           0.0   \n",
       "\n",
       "   hours-per-week  native-country income  \n",
       "0            40.0   United-States  <=50K  "
      ]
     },
     "metadata": {},
     "output_type": "display_data"
    }
   ],
   "source": [
    "# Import libraries necessary for this project\n",
    "import numpy as np\n",
    "import pandas as pd\n",
    "from time import time\n",
    "from IPython.display import display # Allows the use of display() for DataFrames\n",
    "\n",
    "# Import supplementary visualization code visuals.py\n",
    "import visuals as vs\n",
    "\n",
    "# Pretty display for notebooks\n",
    "%matplotlib inline\n",
    "\n",
    "# Load the Census dataset\n",
    "data = pd.read_csv(\"census.csv\")\n",
    "\n",
    "# Success - Display the first record\n",
    "display(data.head(n=1))\n"
   ]
  },
  {
   "cell_type": "markdown",
   "metadata": {},
   "source": [
    "### Implementation: Data Exploration\n",
    "A cursory investigation of the dataset will determine how many individuals fit into either group, and will tell us about the percentage of these individuals making more than \\$50,000. In the code cell below, you will need to compute the following:\n",
    "- The total number of records, `'n_records'`\n",
    "- The number of individuals making more than \\$50,000 annually, `'n_greater_50k'`.\n",
    "- The number of individuals making at most \\$50,000 annually, `'n_at_most_50k'`.\n",
    "- The percentage of individuals making more than \\$50,000 annually, `'greater_percent'`.\n",
    "\n",
    "** HINT: ** You may need to look at the table above to understand how the `'income'` entries are formatted. "
   ]
  },
  {
   "cell_type": "code",
   "execution_count": 2,
   "metadata": {},
   "outputs": [
    {
     "name": "stdout",
     "output_type": "stream",
     "text": [
      "Total number of records: 45222\n",
      "Individuals making more than $50,000: 11208\n",
      "Individuals making at most $50,000: 34014\n",
      "Percentage of individuals making more than $50,000: 24.78%\n"
     ]
    }
   ],
   "source": [
    "# TODO: Total number of records\n",
    "n_records = len(data.index)\n",
    "# TODO: Number of records where individual's income is more than $50,000\n",
    "n_greater_50k = len(data[data['income']=='>50K'].index)\n",
    "# TODO: Number of records where individual's income is at most $50,000\n",
    "n_at_most_50k = len(data[data['income']=='<=50K'].index)\n",
    "\n",
    "# TODO: Percentage of individuals whose income is more than $50,000\n",
    "greater_percent = (float(n_greater_50k) *100.0)/n_records\n",
    "\n",
    "# Print the results\n",
    "print \"Total number of records: {}\".format(n_records)\n",
    "print \"Individuals making more than $50,000: {}\".format(n_greater_50k)\n",
    "print \"Individuals making at most $50,000: {}\".format(n_at_most_50k)\n",
    "print \"Percentage of individuals making more than $50,000: {:.2f}%\".format(greater_percent)"
   ]
  },
  {
   "cell_type": "markdown",
   "metadata": {},
   "source": [
    "** Featureset Exploration **\n",
    "\n",
    "* **age**: continuous. \n",
    "* **workclass**: Private, Self-emp-not-inc, Self-emp-inc, Federal-gov, Local-gov, State-gov, Without-pay, Never-worked. \n",
    "* **education**: Bachelors, Some-college, 11th, HS-grad, Prof-school, Assoc-acdm, Assoc-voc, 9th, 7th-8th, 12th, Masters, 1st-4th, 10th, Doctorate, 5th-6th, Preschool. \n",
    "* **education-num**: continuous. \n",
    "* **marital-status**: Married-civ-spouse, Divorced, Never-married, Separated, Widowed, Married-spouse-absent, Married-AF-spouse. \n",
    "* **occupation**: Tech-support, Craft-repair, Other-service, Sales, Exec-managerial, Prof-specialty, Handlers-cleaners, Machine-op-inspct, Adm-clerical, Farming-fishing, Transport-moving, Priv-house-serv, Protective-serv, Armed-Forces. \n",
    "* **relationship**: Wife, Own-child, Husband, Not-in-family, Other-relative, Unmarried. \n",
    "* **race**: Black, White, Asian-Pac-Islander, Amer-Indian-Eskimo, Other. \n",
    "* **sex**: Female, Male. \n",
    "* **capital-gain**: continuous. \n",
    "* **capital-loss**: continuous. \n",
    "* **hours-per-week**: continuous. \n",
    "* **native-country**: United-States, Cambodia, England, Puerto-Rico, Canada, Germany, Outlying-US(Guam-USVI-etc), India, Japan, Greece, South, China, Cuba, Iran, Honduras, Philippines, Italy, Poland, Jamaica, Vietnam, Mexico, Portugal, Ireland, France, Dominican-Republic, Laos, Ecuador, Taiwan, Haiti, Columbia, Hungary, Guatemala, Nicaragua, Scotland, Thailand, Yugoslavia, El-Salvador, Trinadad&Tobago, Peru, Hong, Holand-Netherlands."
   ]
  },
  {
   "cell_type": "markdown",
   "metadata": {},
   "source": [
    "----\n",
    "## Preparing the Data\n",
    "Before data can be used as input for machine learning algorithms, it often must be cleaned, formatted, and restructured — this is typically known as **preprocessing**. Fortunately, for this dataset, there are no invalid or missing entries we must deal with, however, there are some qualities about certain features that must be adjusted. This preprocessing can help tremendously with the outcome and predictive power of nearly all learning algorithms."
   ]
  },
  {
   "cell_type": "markdown",
   "metadata": {},
   "source": [
    "### Transforming Skewed Continuous Features\n",
    "A dataset may sometimes contain at least one feature whose values tend to lie near a single number, but will also have a non-trivial number of vastly larger or smaller values than that single number.  Algorithms can be sensitive to such distributions of values and can underperform if the range is not properly normalized. With the census dataset two features fit this description: '`capital-gain'` and `'capital-loss'`. \n",
    "\n",
    "Run the code cell below to plot a histogram of these two features. Note the range of the values present and how they are distributed."
   ]
  },
  {
   "cell_type": "code",
   "execution_count": 3,
   "metadata": {},
   "outputs": [
    {
     "data": {
      "image/png": "iVBORw0KGgoAAAANSUhEUgAAAxAAAAF2CAYAAAD+y36TAAAABHNCSVQICAgIfAhkiAAAAAlwSFlz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\n2gQEAADQJiAAAIA2AQEAALQJCAAAoO0Ga7UEP7pgqRcAAAAASUVORK5CYII=\n",
      "text/plain": [
       "<matplotlib.figure.Figure at 0xc58b048>"
      ]
     },
     "metadata": {},
     "output_type": "display_data"
    }
   ],
   "source": [
    "# Split the data into features and target label\n",
    "income_raw = data['income']\n",
    "features_raw = data.drop('income', axis = 1)\n",
    "\n",
    "# Visualize skewed continuous features of original data\n",
    "vs.distribution(data)"
   ]
  },
  {
   "cell_type": "markdown",
   "metadata": {},
   "source": [
    "For highly-skewed feature distributions such as `'capital-gain'` and `'capital-loss'`, it is common practice to apply a <a href=\"https://en.wikipedia.org/wiki/Data_transformation_(statistics)\">logarithmic transformation</a> on the data so that the very large and very small values do not negatively affect the performance of a learning algorithm. Using a logarithmic transformation significantly reduces the range of values caused by outliers. Care must be taken when applying this transformation however: The logarithm of `0` is undefined, so we must translate the values by a small amount above `0` to apply the the logarithm successfully.\n",
    "\n",
    "Run the code cell below to perform a transformation on the data and visualize the results. Again, note the range of values and how they are distributed. "
   ]
  },
  {
   "cell_type": "code",
   "execution_count": 4,
   "metadata": {},
   "outputs": [
    {
     "data": {
      "image/png": "iVBORw0KGgoAAAANSUhEUgAAAxAAAAF2CAYAAAD+y36TAAAABHNCSVQICAgIfAhkiAAAAAlwSFlz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\nlt95AAAAAElFTkSuQmCC\n",
      "text/plain": [
       "<matplotlib.figure.Figure at 0xc7f7438>"
      ]
     },
     "metadata": {},
     "output_type": "display_data"
    }
   ],
   "source": [
    "# Log-transform the skewed features\n",
    "skewed = ['capital-gain', 'capital-loss']\n",
    "features_log_transformed = pd.DataFrame(data = features_raw)\n",
    "features_log_transformed[skewed] = features_raw[skewed].apply(lambda x: np.log(x + 1))\n",
    "\n",
    "# Visualize the new log distributions\n",
    "vs.distribution(features_log_transformed, transformed = True)"
   ]
  },
  {
   "cell_type": "markdown",
   "metadata": {},
   "source": [
    "### Normalizing Numerical Features\n",
    "In addition to performing transformations on features that are highly skewed, it is often good practice to perform some type of scaling on numerical features. Applying a scaling to the data does not change the shape of each feature's distribution (such as `'capital-gain'` or `'capital-loss'` above); however, normalization ensures that each feature is treated equally when applying supervised learners. Note that once scaling is applied, observing the data in its raw form will no longer have the same original meaning, as exampled below.\n",
    "\n",
    "Run the code cell below to normalize each numerical feature. We will use [`sklearn.preprocessing.MinMaxScaler`](http://scikit-learn.org/stable/modules/generated/sklearn.preprocessing.MinMaxScaler.html) for this."
   ]
  },
  {
   "cell_type": "code",
   "execution_count": 5,
   "metadata": {},
   "outputs": [
    {
     "data": {
      "text/html": [
       "<div>\n",
       "<style>\n",
       "    .dataframe thead tr:only-child th {\n",
       "        text-align: right;\n",
       "    }\n",
       "\n",
       "    .dataframe thead th {\n",
       "        text-align: left;\n",
       "    }\n",
       "\n",
       "    .dataframe tbody tr th {\n",
       "        vertical-align: top;\n",
       "    }\n",
       "</style>\n",
       "<table border=\"1\" class=\"dataframe\">\n",
       "  <thead>\n",
       "    <tr style=\"text-align: right;\">\n",
       "      <th></th>\n",
       "      <th>age</th>\n",
       "      <th>workclass</th>\n",
       "      <th>education_level</th>\n",
       "      <th>education-num</th>\n",
       "      <th>marital-status</th>\n",
       "      <th>occupation</th>\n",
       "      <th>relationship</th>\n",
       "      <th>race</th>\n",
       "      <th>sex</th>\n",
       "      <th>capital-gain</th>\n",
       "      <th>capital-loss</th>\n",
       "      <th>hours-per-week</th>\n",
       "      <th>native-country</th>\n",
       "    </tr>\n",
       "  </thead>\n",
       "  <tbody>\n",
       "    <tr>\n",
       "      <th>0</th>\n",
       "      <td>0.301370</td>\n",
       "      <td>State-gov</td>\n",
       "      <td>Bachelors</td>\n",
       "      <td>0.800000</td>\n",
       "      <td>Never-married</td>\n",
       "      <td>Adm-clerical</td>\n",
       "      <td>Not-in-family</td>\n",
       "      <td>White</td>\n",
       "      <td>Male</td>\n",
       "      <td>0.667492</td>\n",
       "      <td>0.0</td>\n",
       "      <td>0.397959</td>\n",
       "      <td>United-States</td>\n",
       "    </tr>\n",
       "    <tr>\n",
       "      <th>1</th>\n",
       "      <td>0.452055</td>\n",
       "      <td>Self-emp-not-inc</td>\n",
       "      <td>Bachelors</td>\n",
       "      <td>0.800000</td>\n",
       "      <td>Married-civ-spouse</td>\n",
       "      <td>Exec-managerial</td>\n",
       "      <td>Husband</td>\n",
       "      <td>White</td>\n",
       "      <td>Male</td>\n",
       "      <td>0.000000</td>\n",
       "      <td>0.0</td>\n",
       "      <td>0.122449</td>\n",
       "      <td>United-States</td>\n",
       "    </tr>\n",
       "    <tr>\n",
       "      <th>2</th>\n",
       "      <td>0.287671</td>\n",
       "      <td>Private</td>\n",
       "      <td>HS-grad</td>\n",
       "      <td>0.533333</td>\n",
       "      <td>Divorced</td>\n",
       "      <td>Handlers-cleaners</td>\n",
       "      <td>Not-in-family</td>\n",
       "      <td>White</td>\n",
       "      <td>Male</td>\n",
       "      <td>0.000000</td>\n",
       "      <td>0.0</td>\n",
       "      <td>0.397959</td>\n",
       "      <td>United-States</td>\n",
       "    </tr>\n",
       "    <tr>\n",
       "      <th>3</th>\n",
       "      <td>0.493151</td>\n",
       "      <td>Private</td>\n",
       "      <td>11th</td>\n",
       "      <td>0.400000</td>\n",
       "      <td>Married-civ-spouse</td>\n",
       "      <td>Handlers-cleaners</td>\n",
       "      <td>Husband</td>\n",
       "      <td>Black</td>\n",
       "      <td>Male</td>\n",
       "      <td>0.000000</td>\n",
       "      <td>0.0</td>\n",
       "      <td>0.397959</td>\n",
       "      <td>United-States</td>\n",
       "    </tr>\n",
       "    <tr>\n",
       "      <th>4</th>\n",
       "      <td>0.150685</td>\n",
       "      <td>Private</td>\n",
       "      <td>Bachelors</td>\n",
       "      <td>0.800000</td>\n",
       "      <td>Married-civ-spouse</td>\n",
       "      <td>Prof-specialty</td>\n",
       "      <td>Wife</td>\n",
       "      <td>Black</td>\n",
       "      <td>Female</td>\n",
       "      <td>0.000000</td>\n",
       "      <td>0.0</td>\n",
       "      <td>0.397959</td>\n",
       "      <td>Cuba</td>\n",
       "    </tr>\n",
       "  </tbody>\n",
       "</table>\n",
       "</div>"
      ],
      "text/plain": [
       "        age          workclass education_level  education-num  \\\n",
       "0  0.301370          State-gov       Bachelors       0.800000   \n",
       "1  0.452055   Self-emp-not-inc       Bachelors       0.800000   \n",
       "2  0.287671            Private         HS-grad       0.533333   \n",
       "3  0.493151            Private            11th       0.400000   \n",
       "4  0.150685            Private       Bachelors       0.800000   \n",
       "\n",
       "        marital-status          occupation    relationship    race      sex  \\\n",
       "0        Never-married        Adm-clerical   Not-in-family   White     Male   \n",
       "1   Married-civ-spouse     Exec-managerial         Husband   White     Male   \n",
       "2             Divorced   Handlers-cleaners   Not-in-family   White     Male   \n",
       "3   Married-civ-spouse   Handlers-cleaners         Husband   Black     Male   \n",
       "4   Married-civ-spouse      Prof-specialty            Wife   Black   Female   \n",
       "\n",
       "   capital-gain  capital-loss  hours-per-week  native-country  \n",
       "0      0.667492           0.0        0.397959   United-States  \n",
       "1      0.000000           0.0        0.122449   United-States  \n",
       "2      0.000000           0.0        0.397959   United-States  \n",
       "3      0.000000           0.0        0.397959   United-States  \n",
       "4      0.000000           0.0        0.397959            Cuba  "
      ]
     },
     "metadata": {},
     "output_type": "display_data"
    }
   ],
   "source": [
    "# Import sklearn.preprocessing.StandardScaler\n",
    "from sklearn.preprocessing import MinMaxScaler\n",
    "\n",
    "# Initialize a scaler, then apply it to the features\n",
    "scaler = MinMaxScaler() # default=(0, 1)\n",
    "numerical = ['age', 'education-num', 'capital-gain', 'capital-loss', 'hours-per-week']\n",
    "\n",
    "features_log_minmax_transform = pd.DataFrame(data = features_log_transformed)\n",
    "features_log_minmax_transform[numerical] = scaler.fit_transform(features_log_transformed[numerical])\n",
    "\n",
    "# Show an example of a record with scaling applied\n",
    "display(features_log_minmax_transform.head(n = 5))"
   ]
  },
  {
   "cell_type": "markdown",
   "metadata": {},
   "source": [
    "### Implementation: Data Preprocessing\n",
    "\n",
    "From the table in **Exploring the Data** above, we can see there are several features for each record that are non-numeric. Typically, learning algorithms expect input to be numeric, which requires that non-numeric features (called *categorical variables*) be converted. One popular way to convert categorical variables is by using the **one-hot encoding** scheme. One-hot encoding creates a _\"dummy\"_ variable for each possible category of each non-numeric feature. For example, assume `someFeature` has three possible entries: `A`, `B`, or `C`. We then encode this feature into `someFeature_A`, `someFeature_B` and `someFeature_C`.\n",
    "\n",
    "|   | someFeature |                    | someFeature_A | someFeature_B | someFeature_C |\n",
    "| :-: | :-: |                            | :-: | :-: | :-: |\n",
    "| 0 |  B  |  | 0 | 1 | 0 |\n",
    "| 1 |  C  | ----> one-hot encode ----> | 0 | 0 | 1 |\n",
    "| 2 |  A  |  | 1 | 0 | 0 |\n",
    "\n",
    "Additionally, as with the non-numeric features, we need to convert the non-numeric target label, `'income'` to numerical values for the learning algorithm to work. Since there are only two possible categories for this label (\"<=50K\" and \">50K\"), we can avoid using one-hot encoding and simply encode these two categories as `0` and `1`, respectively. In code cell below, you will need to implement the following:\n",
    " - Use [`pandas.get_dummies()`](http://pandas.pydata.org/pandas-docs/stable/generated/pandas.get_dummies.html?highlight=get_dummies#pandas.get_dummies) to perform one-hot encoding on the `'features_raw'` data.\n",
    " - Convert the target label `'income_raw'` to numerical entries.\n",
    "   - Set records with \"<=50K\" to `0` and records with \">50K\" to `1`."
   ]
  },
  {
   "cell_type": "code",
   "execution_count": 6,
   "metadata": {
    "scrolled": true
   },
   "outputs": [
    {
     "name": "stdout",
     "output_type": "stream",
     "text": [
      "103 total features after one-hot encoding.\n"
     ]
    }
   ],
   "source": [
    "# TODO: One-hot encode the 'features_log_minmax_transform' data using pandas.get_dummies()\n",
    "features_final = pd.get_dummies(features_log_minmax_transform)\n",
    "\n",
    "# TODO: Encode the 'income_raw' data to numerical values\n",
    "def encode_salary(x):\n",
    "    if x=='>50K':\n",
    "        return 1\n",
    "    else:\n",
    "        return 0\n",
    "income=income_raw.apply(encode_salary)\n",
    "\n",
    "# Print the number of features after one-hot encoding\n",
    "encoded = list(features_final.columns)\n",
    "print \"{} total features after one-hot encoding.\".format(len(encoded))\n",
    "\n",
    "# Uncomment the following line to see the encoded feature names\n",
    "#print encoded"
   ]
  },
  {
   "cell_type": "markdown",
   "metadata": {},
   "source": [
    "### Shuffle and Split Data\n",
    "Now all _categorical variables_ have been converted into numerical features, and all numerical features have been normalized. As always, we will now split the data (both features and their labels) into training and test sets. 80% of the data will be used for training and 20% for testing.\n",
    "\n",
    "Run the code cell below to perform this split."
   ]
  },
  {
   "cell_type": "code",
   "execution_count": 7,
   "metadata": {},
   "outputs": [
    {
     "name": "stdout",
     "output_type": "stream",
     "text": [
      "Training set has 36177 samples.\n",
      "Testing set has 9045 samples.\n"
     ]
    },
    {
     "name": "stderr",
     "output_type": "stream",
     "text": [
      "C:\\Users\\HZR815\\AppData\\Local\\Continuum\\Anaconda2\\lib\\site-packages\\sklearn\\cross_validation.py:44: DeprecationWarning: This module was deprecated in version 0.18 in favor of the model_selection module into which all the refactored classes and functions are moved. Also note that the interface of the new CV iterators are different from that of this module. This module will be removed in 0.20.\n",
      "  \"This module will be removed in 0.20.\", DeprecationWarning)\n"
     ]
    }
   ],
   "source": [
    "# Import train_test_split\n",
    "from sklearn.cross_validation import train_test_split\n",
    "\n",
    "# Split the 'features' and 'income' data into training and testing sets\n",
    "X_train, X_test, y_train, y_test = train_test_split(features_final, \n",
    "                                                    income, \n",
    "                                                    test_size = 0.2, \n",
    "                                                    random_state = 0)\n",
    "\n",
    "# Show the results of the split\n",
    "print \"Training set has {} samples.\".format(X_train.shape[0])\n",
    "print \"Testing set has {} samples.\".format(X_test.shape[0])"
   ]
  },
  {
   "cell_type": "markdown",
   "metadata": {},
   "source": [
    "----\n",
    "## Evaluating Model Performance\n",
    "In this section, we will investigate four different algorithms, and determine which is best at modeling the data. Three of these algorithms will be supervised learners of your choice, and the fourth algorithm is known as a *naive predictor*."
   ]
  },
  {
   "cell_type": "markdown",
   "metadata": {},
   "source": [
    "### Metrics and the Naive Predictor\n",
    "*CharityML*, equipped with their research, knows individuals that make more than \\$50,000 are most likely to donate to their charity. Because of this, *CharityML* is particularly interested in predicting who makes more than \\$50,000 accurately. It would seem that using **accuracy** as a metric for evaluating a particular model's performace would be appropriate. Additionally, identifying someone that *does not* make more than \\$50,000 as someone who does would be detrimental to *CharityML*, since they are looking to find individuals willing to donate. Therefore, a model's ability to precisely predict those that make more than \\$50,000 is *more important* than the model's ability to **recall** those individuals. We can use **F-beta score** as a metric that considers both precision and recall:\n",
    "\n",
    "$$ F_{\\beta} = (1 + \\beta^2) \\cdot \\frac{precision \\cdot recall}{\\left( \\beta^2 \\cdot precision \\right) + recall} $$\n",
    "\n",
    "In particular, when $\\beta = 0.5$, more emphasis is placed on precision. This is called the **F$_{0.5}$ score** (or F-score for simplicity).\n",
    "\n",
    "Looking at the distribution of classes (those who make at most \\$50,000, and those who make more), it's clear most individuals do not make more than \\$50,000. This can greatly affect **accuracy**, since we could simply say *\"this person does not make more than \\$50,000\"* and generally be right, without ever looking at the data! Making such a statement would be called **naive**, since we have not considered any information to substantiate the claim. It is always important to consider the *naive prediction* for your data, to help establish a benchmark for whether a model is performing well. That been said, using that prediction would be pointless: If we predicted all people made less than \\$50,000, *CharityML* would identify no one as donors. \n",
    "\n",
    "\n",
    "#### Note: Recap of accuracy, precision, recall\n",
    "\n",
    "** Accuracy ** measures how often the classifier makes the correct prediction. It’s the ratio of the number of correct predictions to the total number of predictions (the number of test data points).\n",
    "\n",
    "** Precision ** tells us what proportion of messages we classified as spam, actually were spam.\n",
    "It is a ratio of true positives(words classified as spam, and which are actually spam) to all positives(all words classified as spam, irrespective of whether that was the correct classificatio), in other words it is the ratio of\n",
    "\n",
    "`[True Positives/(True Positives + False Positives)]`\n",
    "\n",
    "** Recall(sensitivity)** tells us what proportion of messages that actually were spam were classified by us as spam.\n",
    "It is a ratio of true positives(words classified as spam, and which are actually spam) to all the words that were actually spam, in other words it is the ratio of\n",
    "\n",
    "`[True Positives/(True Positives + False Negatives)]`\n",
    "\n",
    "For classification problems that are skewed in their classification distributions like in our case, for example if we had a 100 text messages and only 2 were spam and the rest 98 weren't, accuracy by itself is not a very good metric. We could classify 90 messages as not spam(including the 2 that were spam but we classify them as not spam, hence they would be false negatives) and 10 as spam(all 10 false positives) and still get a reasonably good accuracy score. For such cases, precision and recall come in very handy. These two metrics can be combined to get the F1 score, which is weighted average(harmonic mean) of the precision and recall scores. This score can range from 0 to 1, with 1 being the best possible F1 score(we take the harmonic mean as we are dealing with ratios)."
   ]
  },
  {
   "cell_type": "markdown",
   "metadata": {},
   "source": [
    "### Question 1 - Naive Predictor Performace\n",
    "* If we chose a model that always predicted an individual made more than $50,000, what would  that model's accuracy and F-score be on this dataset? You must use the code cell below and assign your results to `'accuracy'` and `'fscore'` to be used later.\n",
    "\n",
    "** Please note ** that the the purpose of generating a naive predictor is simply to show what a base model without any intelligence would look like. In the real world, ideally your base model would be either the results of a previous model or could be based on a research paper upon which you are looking to improve. When there is no benchmark model set, getting a result better than random choice is a place you could start from.\n",
    "\n",
    "** HINT: ** \n",
    "\n",
    "* When we have a model that always predicts '1' (i.e. the individual makes more than 50k) then our model will have no True Negatives(TN) or False Negatives(FN) as we are not making any negative('0' value) predictions. Therefore our Accuracy in this case becomes the same as our Precision(True Positives/(True Positives + False Positives)) as every prediction that we have made with value '1' that should have '0' becomes a False Positive; therefore our denominator in this case is the total number of records we have in total. \n",
    "* Our Recall score(True Positives/(True Positives + False Negatives)) in this setting becomes 1 as we have no False Negatives."
   ]
  },
  {
   "cell_type": "code",
   "execution_count": 8,
   "metadata": {},
   "outputs": [
    {
     "name": "stdout",
     "output_type": "stream",
     "text": [
      "Naive Predictor: [Accuracy score: 0.2478, F-score: 0.2917]\n"
     ]
    }
   ],
   "source": [
    "'''\n",
    "TP = np.sum(income) # Counting the ones as this is the naive case. Note that 'income' is the 'income_raw' data \n",
    "encoded to numerical values done in the data preprocessing step.\n",
    "FP = income.count() - TP # Specific to the naive case\n",
    "\n",
    "TN = 0 # No predicted negatives in the naive case\n",
    "FN = 0 # No predicted negatives in the naive case\n",
    "'''\n",
    "# TODO: Calculate accuracy, precision and recall\n",
    "accuracy = float(np.sum(income))/income.count()\n",
    "recall = 1\n",
    "precision = float(np.sum(income))/income.count()\n",
    "\n",
    "# TODO: Calculate F-score using the formula above for beta = 0.5 and correct values for precision and recall.\n",
    "# HINT: The formula above can be written as (1 + beta**2) * (precision * recall) / ((beta**2 * precision) + recall)\n",
    "beta=0.5\n",
    "fscore = (1 + beta**2) * (precision * recall) / ((beta**2 * precision) + recall)\n",
    "\n",
    "# Print the results \n",
    "print \"Naive Predictor: [Accuracy score: {:.4f}, F-score: {:.4f}]\".format(accuracy, fscore)"
   ]
  },
  {
   "cell_type": "markdown",
   "metadata": {},
   "source": [
    "###  Supervised Learning Models\n",
    "**The following are some of the supervised learning models that are currently available in** [`scikit-learn`](http://scikit-learn.org/stable/supervised_learning.html) **that you may choose from:**\n",
    "- Gaussian Naive Bayes (GaussianNB)\n",
    "- Decision Trees\n",
    "- Ensemble Methods (Bagging, AdaBoost, Random Forest, Gradient Boosting)\n",
    "- K-Nearest Neighbors (KNeighbors)\n",
    "- Stochastic Gradient Descent Classifier (SGDC)\n",
    "- Support Vector Machines (SVM)\n",
    "- Logistic Regression"
   ]
  },
  {
   "cell_type": "markdown",
   "metadata": {},
   "source": [
    "### Question 2 - Model Application\n",
    "List three of the supervised learning models above that are appropriate for this problem that you will test on the census data. For each model chosen\n",
    "\n",
    "- Describe one real-world application in industry where the model can be applied. \n",
    "- What are the strengths of the model; when does it perform well?\n",
    "- What are the weaknesses of the model; when does it perform poorly?\n",
    "- What makes this model a good candidate for the problem, given what you know about the data?\n",
    "\n",
    "** HINT: **\n",
    "\n",
    "Structure your answer in the same format as above^, with 4 parts for each of the three models you pick. Please include references with your answer."
   ]
  },
  {
   "cell_type": "markdown",
   "metadata": {},
   "source": [
    "**Answer: The three models I chose were \n",
    "\n",
    "1.Logistic Regression\n",
    "\n",
    "2.Decision Trees\n",
    "\n",
    "3.Support Vector Machines\n",
    "\n",
    "Logistic Regression:\n",
    "Logistic regression can be used to determine if a insurance claim is fradulent or not.[An Analytical Approach To Detecting Insurance Fraud J. Holton Wilson Central Michigan University http://www.aabri.com/manuscripts/08103.pdf] Various situations of Auto insurance physical damage and injury claims are evaluated to determine if the claim is fraudulent or not.\n",
    "\n",
    "Logistic regression doesn't expect the dependent variables to be normally distributed.It is simple and it is less prone to over-fitting.\n",
    "\n",
    "One of the drawbacks of logistic regression is that when multicollinearity exits, it may lead to unreliable estimates of regression coefficients.Also, it requires larger sample sizes if the number of variables is more.\n",
    "\n",
    "Logistic regression is best suited for cases where the dependent variable is binomial.In our case, we are trying to determine if the person's salary is greater than 50K (dependent variable value of 1) or less than 50K (dependent variable value of 0).Also,Our dataset has limited number of features and big enough size of about 36K records.Logistic regression performs well when the sample size is big and has limited number of features.Hence it is a good candidate for the problem.\n",
    "\n",
    "Decision Trees:\n",
    "Decision trees are used for medical text classification into categories [Inductive text classification for medical applications. Journal of Experimental and Theoretical Artificial Intelligence, 7(1):49--80, January-March 1995 WENDY LEHNERT, STEPHEN SODERLAND, DAVID ARONOW, FANGFANG FENG, AND AVINOAM SHMUELI.].\n",
    "\n",
    "The best advantage of decision trees is it is easy to interpret and explain to people.It doesnt require variable transformations.Hence we dont have to do lot of pre-processing.Decision trees doesnt require that the parameters should be linearly related.When we fit the trees, the top few nodes will have the most important variables.The descision trees will automatically do the feature selection.\n",
    "\n",
    "Decision Trees can overfit easily.They require performing constant validation as well as pruning the tree.They are also extremely sensitive to the data.A small change in data can lead to a totally different tree.\n",
    "\n",
    "Decision trees can be used for classification, it is easy to understand the model and explain it to others.For these reasons,we are considering decision trees.\n",
    "\n",
    "Support Vector Machines:\n",
    "\n",
    "Support Vector Machines are used for hand written digit recoginition [Handwritten digit recognition: benchmarking of\n",
    "state-of-the-art techniques , Cheng-Lin Liu∗, Kazuki Nakashima, Hiroshi Sako, Hiromichi Fujisawa\n",
    "Central Research Laboratory, Hitachi, Ltd. 1-280 Higashi-koigakubo, Kokubunji-shi, Tokyo 185-8601, Japan URL: https://www.researchgate.net/profile/Hiromichi_Fujisawa/publication/222834590_Handwritten_digit_recognition_Benchmarking_of_state-of-the-art_techniques/links/00463521bf24999020000000.pdf].\n",
    "SVMs can be applied to a wide range of classification and regression problems.It is relatively simple to use.The general methodology has a lot of flexibility.By applying regularization and Kernel methods , SVMs can be customized to meet the needs of a particular regression/classification task.Kernels can transform an input data that is linearly not-separable into a linearly separable one.Regularization can help in avoiding over-fitting.\n",
    "\n",
    "One of the weaknesses of SVMs is that it takes relatively a longer time to train.Also,the selection of the Kernel is critical for the sucess of the model.\n",
    "\n",
    "There could be non linear interactions between the data features.SVM models can uncover this.Hence this makes SVM a good choice for this problem.\n",
    "\n",
    "**"
   ]
  },
  {
   "cell_type": "markdown",
   "metadata": {},
   "source": [
    "### Implementation - Creating a Training and Predicting Pipeline\n",
    "To properly evaluate the performance of each model you've chosen, it's important that you create a training and predicting pipeline that allows you to quickly and effectively train models using various sizes of training data and perform predictions on the testing data. Your implementation here will be used in the following section.\n",
    "In the code block below, you will need to implement the following:\n",
    " - Import `fbeta_score` and `accuracy_score` from [`sklearn.metrics`](http://scikit-learn.org/stable/modules/classes.html#sklearn-metrics-metrics).\n",
    " - Fit the learner to the sampled training data and record the training time.\n",
    " - Perform predictions on the test data `X_test`, and also on the first 300 training points `X_train[:300]`.\n",
    "   - Record the total prediction time.\n",
    " - Calculate the accuracy score for both the training subset and testing set.\n",
    " - Calculate the F-score for both the training subset and testing set.\n",
    "   - Make sure that you set the `beta` parameter!"
   ]
  },
  {
   "cell_type": "code",
   "execution_count": 9,
   "metadata": {
    "collapsed": true
   },
   "outputs": [],
   "source": [
    "# TODO: Import two metrics from sklearn - fbeta_score and accuracy_score\n",
    "from sklearn.metrics import fbeta_score,accuracy_score \n",
    "def train_predict(learner, sample_size, X_train, y_train, X_test, y_test): \n",
    "    '''\n",
    "    inputs:\n",
    "       - learner: the learning algorithm to be trained and predicted on\n",
    "       - sample_size: the size of samples (number) to be drawn from training set\n",
    "       - X_train: features training set\n",
    "       - y_train: income training set\n",
    "       - X_test: features testing set\n",
    "       - y_test: income testing set\n",
    "    '''\n",
    "    \n",
    "    results = {}\n",
    "    \n",
    "    # TODO: Fit the learner to the training data using slicing with 'sample_size' using .fit(training_features[:], training_labels[:])\n",
    "    start = time() # Get start time\n",
    "    learner =learner.fit(X_train[:sample_size],y_train[:sample_size])\n",
    "    end = time() # Get end time\n",
    "    \n",
    "    # TODO: Calculate the training time\n",
    "    results['train_time'] = end - start\n",
    "        \n",
    "    # TODO: Get the predictions on the test set(X_test),\n",
    "    #       then get predictions on the first 300 training samples(X_train) using .predict()\n",
    "    start = time() # Get start time\n",
    "    predictions_test = learner.predict(X_test)\n",
    "    predictions_train = learner.predict(X_train[:300])\n",
    "    end = time() # Get end time\n",
    "    \n",
    "    # TODO: Calculate the total prediction time\n",
    "    results['pred_time'] = end - start\n",
    "            \n",
    "    # TODO: Compute accuracy on the first 300 training samples which is y_train[:300]\n",
    "    results['acc_train'] = accuracy_score(y_train[:300],predictions_train)\n",
    "        \n",
    "    # TODO: Compute accuracy on test set using accuracy_score()\n",
    "    results['acc_test'] = accuracy_score(y_test,predictions_test)\n",
    "    \n",
    "    # TODO: Compute F-score on the the first 300 training samples using fbeta_score()\n",
    "    results['f_train'] = fbeta_score(y_train[:300],predictions_train,0.5)\n",
    "        \n",
    "    # TODO: Compute F-score on the test set which is y_test\n",
    "    results['f_test'] = fbeta_score(y_test,predictions_test,0.5)\n",
    "       \n",
    "    # Success\n",
    "    print \"{} trained on {} samples.\".format(learner.__class__.__name__, sample_size)\n",
    "        \n",
    "    # Return the results\n",
    "    return results"
   ]
  },
  {
   "cell_type": "markdown",
   "metadata": {},
   "source": [
    "### Implementation: Initial Model Evaluation\n",
    "In the code cell, you will need to implement the following:\n",
    "- Import the three supervised learning models you've discussed in the previous section.\n",
    "- Initialize the three models and store them in `'clf_A'`, `'clf_B'`, and `'clf_C'`.\n",
    "  - Use a `'random_state'` for each model you use, if provided.\n",
    "  - **Note:** Use the default settings for each model — you will tune one specific model in a later section.\n",
    "- Calculate the number of records equal to 1%, 10%, and 100% of the training data.\n",
    "  - Store those values in `'samples_1'`, `'samples_10'`, and `'samples_100'` respectively.\n",
    "\n",
    "**Note:** Depending on which algorithms you chose, the following implementation may take some time to run!"
   ]
  },
  {
   "cell_type": "code",
   "execution_count": 10,
   "metadata": {},
   "outputs": [
    {
     "name": "stderr",
     "output_type": "stream",
     "text": [
      "C:\\Users\\HZR815\\AppData\\Local\\Continuum\\Anaconda2\\lib\\site-packages\\sklearn\\metrics\\classification.py:1113: UndefinedMetricWarning: F-score is ill-defined and being set to 0.0 due to no predicted samples.\n",
      "  'precision', 'predicted', average, warn_for)\n"
     ]
    },
    {
     "name": "stdout",
     "output_type": "stream",
     "text": [
      "SVC trained on 361 samples.\n",
      "SVC trained on 3617 samples.\n",
      "SVC trained on 36177 samples.\n",
      "LogisticRegression trained on 361 samples.\n",
      "LogisticRegression trained on 3617 samples.\n",
      "LogisticRegression trained on 36177 samples.\n",
      "DecisionTreeClassifier trained on 361 samples.\n",
      "DecisionTreeClassifier trained on 3617 samples.\n",
      "DecisionTreeClassifier trained on 36177 samples.\n"
     ]
    },
    {
     "data": {
      "image/png": "iVBORw0KGgoAAAANSUhEUgAAAxAAAAIuCAYAAAAv/u6UAAAABHNCSVQICAgIfAhkiAAAAAlwSFlz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\nSUVORK5CYII=\n",
      "text/plain": [
       "<matplotlib.figure.Figure at 0xef16ef0>"
      ]
     },
     "metadata": {},
     "output_type": "display_data"
    }
   ],
   "source": [
    "# TODO: Import the three supervised learning models from sklearn\n",
    "from sklearn import svm\n",
    "from sklearn.ensemble import RandomForestClassifier\n",
    "from sklearn import tree\n",
    "from sklearn.linear_model import LogisticRegression\n",
    "# TODO: Initialize the three models\n",
    "clf_A = svm.SVC()\n",
    "clf_B = LogisticRegression()\n",
    "clf_C = tree.DecisionTreeClassifier()\n",
    "\n",
    "# TODO: Calculate the number of samples for 1%, 10%, and 100% of the training data\n",
    "# HINT: samples_100 is the entire training set i.e. len(y_train)\n",
    "# HINT: samples_10 is 10% of samples_100\n",
    "# HINT: samples_1 is 1% of samples_100\n",
    "samples_100 = len(y_train)\n",
    "samples_10 = samples_100/10\n",
    "samples_1 = samples_10/10\n",
    "\n",
    "# Collect results on the learners\n",
    "results = {}\n",
    "for clf in [clf_A, clf_B, clf_C]:\n",
    "    clf_name = clf.__class__.__name__\n",
    "    results[clf_name] = {}\n",
    "    for i, samples in enumerate([samples_1, samples_10, samples_100]):\n",
    "        results[clf_name][i] = \\\n",
    "        train_predict(clf, samples, X_train, y_train, X_test, y_test)\n",
    "\n",
    "# Run metrics visualization for the three supervised learning models chosen\n",
    "vs.evaluate(results, accuracy, fscore)"
   ]
  },
  {
   "cell_type": "markdown",
   "metadata": {},
   "source": [
    "----\n",
    "## Improving Results\n",
    "In this final section, you will choose from the three supervised learning models the *best* model to use on the student data. You will then perform a grid search optimization for the model over the entire training set (`X_train` and `y_train`) by tuning at least one parameter to improve upon the untuned model's F-score. "
   ]
  },
  {
   "cell_type": "markdown",
   "metadata": {},
   "source": [
    "### Question 3 - Choosing the Best Model\n",
    "\n",
    "* Based on the evaluation you performed earlier, in one to two paragraphs, explain to *CharityML* which of the three models you believe to be most appropriate for the task of identifying individuals that make more than \\$50,000. \n",
    "\n",
    "** HINT: ** \n",
    "Look at the graph at the bottom left from the cell above(the visualization created by `vs.evaluate(results, accuracy, fscore)`) and check the F score for the testing set when 100% of the training set is used. Which model has the highest score? Your answer should include discussion of the:\n",
    "* metrics - F score on the testing when 100% of the training data is used, \n",
    "* prediction/training time\n",
    "* the algorithm's suitability for the data."
   ]
  },
  {
   "cell_type": "markdown",
   "metadata": {},
   "source": [
    "**Answer: \n",
    "\n",
    "Of the three models selected, Logistic Regression is the better model for this purpose.\n",
    "\n",
    "The first model that I rejected out of the 3 models selected, was the decision tree classifier.The model did better on the training dataset .However, it wasnt good when run against the testing data set.This leads me to believe that the model is not generalizing well and is just trying to overfit the data.hence it is the first model I discarded.\n",
    "\n",
    "The Support vector machine is edging close to the results of Logistic regression model.When trained against 100% of the data, its F-score was higher than the F-score for logistic regression and was slightly lesser on the testing subset.The main reason am discarding it was the run time.It took more training time to generate a predictor that was almost the same as the Logistic regression predictor.The time it took for logistic regression predictor on 100% of the datasubset was smaller than the time the SVC predictor took to get trained on 1% of the subset.\n",
    "\n",
    "Hence am selecting Logistic rgression to be a better model for this purpose.\n",
    "**"
   ]
  },
  {
   "cell_type": "markdown",
   "metadata": {},
   "source": [
    "### Question 4 - Describing the Model in Layman's Terms\n",
    "\n",
    "* In one to two paragraphs, explain to *CharityML*, in layman's terms, how the final model chosen is supposed to work. Be sure that you are describing the major qualities of the model, such as how the model is trained and how the model makes a prediction. Avoid using advanced mathematical jargon, such as describing equations.\n",
    "\n",
    "** HINT: **\n",
    "\n",
    "When explaining your model, if using external resources please include all citations."
   ]
  },
  {
   "cell_type": "markdown",
   "metadata": {},
   "source": [
    "**Answer:\n",
    "\n",
    "The model that we chose is logistic regression.The logistic regression model takes in the input values and then provides us a prediction value.The Prediction value is the probability that the individual is actually making more than 50K.If the probability is more than 0.5, then it indicates that the person is likely a targeted donor.The closer the probability value is  to 1, the better the odds that the person is more likely a targeted donor.This model not only indicates us the classfication (person is making>50K or not) , it also provides the odds of the person is actually making more than 50K.We can use the odds to establish a priority order of the people which Charity ML can reach out to.\n",
    "\n",
    "We preprocessed the data and run three algorithms on the data.We split the data into 2 different sets in a 80-20 ratio. 80% of the data was used to train the model.The model generated was than tested on the test subset which has 20% of the data.We then cacluated some performance metrics on the model.An example performance metric is accuracy of the classifier.Accuray indicates the ratio of number of correct predictions to the number of predictions that the model made.Of the 3 models we tried out , Logistic regression had a good accuracy and a faster run time.\n",
    "\n",
    "One thing that we have to be aware of.Let us say , in the future, we get more details about the person.We call these as features.If we have to train the model with more features, then we will have to increase the size of the data set for this model to make a reliable prediction.We will have to find a way to either get data for more individuals to increase the size of the dataset.If that is not possible, we may have to discard some existing features to accomodate the new features.We cannot reliably say at this point if the addition of new features/ discarding of new features will help or hurt the model \n",
    "\n",
    "\n",
    "** "
   ]
  },
  {
   "cell_type": "markdown",
   "metadata": {},
   "source": [
    "### Implementation: Model Tuning\n",
    "Fine tune the chosen model. Use grid search (`GridSearchCV`) with at least one important parameter tuned with at least 3 different values. You will need to use the entire training set for this. In the code cell below, you will need to implement the following:\n",
    "- Import [`sklearn.grid_search.GridSearchCV`](http://scikit-learn.org/0.17/modules/generated/sklearn.grid_search.GridSearchCV.html) and [`sklearn.metrics.make_scorer`](http://scikit-learn.org/stable/modules/generated/sklearn.metrics.make_scorer.html).\n",
    "- Initialize the classifier you've chosen and store it in `clf`.\n",
    " - Set a `random_state` if one is available to the same state you set before.\n",
    "- Create a dictionary of parameters you wish to tune for the chosen model.\n",
    " - Example: `parameters = {'parameter' : [list of values]}`.\n",
    " - **Note:** Avoid tuning the `max_features` parameter of your learner if that parameter is available!\n",
    "- Use `make_scorer` to create an `fbeta_score` scoring object (with $\\beta = 0.5$).\n",
    "- Perform grid search on the classifier `clf` using the `'scorer'`, and store it in `grid_obj`.\n",
    "- Fit the grid search object to the training data (`X_train`, `y_train`), and store it in `grid_fit`.\n",
    "\n",
    "**Note:** Depending on the algorithm chosen and the parameter list, the following implementation may take some time to run!"
   ]
  },
  {
   "cell_type": "code",
   "execution_count": 13,
   "metadata": {},
   "outputs": [
    {
     "name": "stdout",
     "output_type": "stream",
     "text": [
      "Unoptimized model\n",
      "------\n",
      "Accuracy score on testing data: 0.8419\n",
      "F-score on testing data: 0.6832\n",
      "\n",
      "Optimized Model\n",
      "------\n",
      "Final accuracy score on the testing data: 0.8418\n",
      "Final F-score on the testing data: 0.6829\n"
     ]
    }
   ],
   "source": [
    "# TODO: Import 'GridSearchCV', 'make_scorer', and any other necessary libraries\n",
    "from sklearn.grid_search import GridSearchCV\n",
    "from sklearn.metrics import make_scorer\n",
    "from sklearn.linear_model import LogisticRegression\n",
    "# TODO: Initialize the classifier\n",
    "clf = LogisticRegression()\n",
    "\n",
    "\n",
    "# TODO: Create the parameters list you wish to tune, using a dictionary if needed.\n",
    "# HINT: parameters = {'parameter_1': [value1, value2], 'parameter_2': [value1, value2]}\n",
    "parameters = {'solver':['liblinear','sag','lbfgs','newton-cg'],'C':[0.25,0.5,0.75,1]}\n",
    "\n",
    "# TODO: Make an fbeta_score scoring object using make_scorer()\n",
    "scorer = make_scorer(fbeta_score, beta=2)\n",
    "\n",
    "# TODO: Perform grid search on the classifier using 'scorer' as the scoring method using GridSearchCV()\n",
    "grid_obj = GridSearchCV(clf,parameters,scorer)\n",
    "\n",
    "# TODO: Fit the grid search object to the training data and find the optimal parameters using fit()\n",
    "grid_fit = grid_obj.fit(X_train, y_train)\n",
    "\n",
    "# Get the estimator\n",
    "best_clf = grid_fit.best_estimator_\n",
    "\n",
    "# Make predictions using the unoptimized and model\n",
    "predictions = (clf.fit(X_train, y_train)).predict(X_test)\n",
    "best_predictions = best_clf.predict(X_test)\n",
    "\n",
    "# Report the before-and-afterscores\n",
    "print \"Unoptimized model\\n------\"\n",
    "print \"Accuracy score on testing data: {:.4f}\".format(accuracy_score(y_test, predictions))\n",
    "print \"F-score on testing data: {:.4f}\".format(fbeta_score(y_test, predictions, beta = 0.5))\n",
    "print \"\\nOptimized Model\\n------\"\n",
    "print \"Final accuracy score on the testing data: {:.4f}\".format(accuracy_score(y_test, best_predictions))\n",
    "print \"Final F-score on the testing data: {:.4f}\".format(fbeta_score(y_test, best_predictions, beta = 0.5))"
   ]
  },
  {
   "cell_type": "markdown",
   "metadata": {},
   "source": [
    "### Question 5 - Final Model Evaluation\n",
    "\n",
    "* What is your optimized model's accuracy and F-score on the testing data? \n",
    "* Are these scores better or worse than the unoptimized model? \n",
    "* How do the results from your optimized model compare to the naive predictor benchmarks you found earlier in **Question 1**?_  \n",
    "\n",
    "**Note:** Fill in the table below with your results, and then provide discussion in the **Answer** box."
   ]
  },
  {
   "cell_type": "markdown",
   "metadata": {},
   "source": [
    "#### Results:\n",
    "\n",
<<<<<<< HEAD
    "|     Metric     | Benchmark Predictor | Unoptimized Model | Optimized Model |\n",
    "| :------------: | :-----------------: | :---------------: | :-------------: | \n",
    "| Accuracy Score |       0.2478              |   0.8419                |    0.8418             |\n",
    "| F-score        |       0.2917             |   0.6832                |   0.6829      |\n"
=======
    "|     Metric     | Unoptimized Model | Optimized Model |\n",
    "| :------------: | :---------------: | :-------------: | \n",
    "| Accuracy Score |                   |                 |\n",
    "| F-score        |                   |   EXAMPLE       |\n"
>>>>>>> c0d1643d4b6c1f527f880c7eef63ecb9abfabd0f
   ]
  },
  {
   "cell_type": "markdown",
   "metadata": {},
   "source": [
    "**Answer: \n",
    "\n",
    "Accuracy score and F-score of the optimized model was slightly lesser than the unoptimized model.But the amount of difference was insignificant.I guess this could be because the default implementations of the algorithms in sklearn are probably tuned for optimal performance.\n",
    "\n",
    "Results of the optimized model were way better than the naive predictor.In the naive predictor, we assumed that all individual make more than 50000. Given a general population, percentage of people making $50000 or more will be less.Since we assumed that everyone is making more, our accuracy and F-score for the naive predictor were way less than the model we selected.\n",
    "\n",
    "**"
   ]
  },
  {
   "cell_type": "markdown",
   "metadata": {},
   "source": [
    "----\n",
    "## Feature Importance\n",
    "\n",
    "An important task when performing supervised learning on a dataset like the census data we study here is determining which features provide the most predictive power. By focusing on the relationship between only a few crucial features and the target label we simplify our understanding of the phenomenon, which is most always a useful thing to do. In the case of this project, that means we wish to identify a small number of features that most strongly predict whether an individual makes at most or more than \\$50,000.\n",
    "\n",
    "Choose a scikit-learn classifier (e.g., adaboost, random forests) that has a `feature_importance_` attribute, which is a function that ranks the importance of features according to the chosen classifier.  In the next python cell fit this classifier to training set and use this attribute to determine the top 5 most important features for the census dataset."
   ]
  },
  {
   "cell_type": "markdown",
   "metadata": {},
   "source": [
    "### Question 6 - Feature Relevance Observation\n",
    "When **Exploring the Data**, it was shown there are thirteen available features for each individual on record in the census data. Of these thirteen records, which five features do you believe to be most important for prediction, and in what order would you rank them and why?"
   ]
  },
  {
   "cell_type": "markdown",
   "metadata": {},
   "source": [
    "**Answer: \n",
    "Here are the 5 features that I believe is most important for prediction sorted by the rank I gave them\n",
    "\n",
    "1.education : I believe education plays a significant role in determining the earning potential of a person.Although there are self-made college drop out billionaires, I consider them as statistical outliers.When considering general population , level of education would be my number one feature to determine the earning potential of a person.\n",
    "\n",
    "2.capital-gain : While education is a indicative factor of earning potential, capital-gain feature will provide us a glimpse of what they are actually earning.But it covers only one source of the person's income.When considered against education, We can get into a potential vs sort-of-actual debate.But am feeling that education is a better indicator for the general population than capital-gain.hence am ranking capital-gain as Number 2.\n",
    "\n",
    "3.occupation : Some occupation usually have a higher income.Hence am inclined to pick that up as my next feature.\n",
    "\n",
    "4.workclass : Coupled with occupation, the workclass would also indicate how much a person is earning.hence it is my next pick.\n",
    "\n",
    "5.hours-per-week: Of all the other features left, I think hours-per-week would be a good indicator for predicting the income.However I feel it needs to be clubbed with occupation and work-class to be a strong predictor.\n",
    "\n",
    "**"
   ]
  },
  {
   "cell_type": "markdown",
   "metadata": {},
   "source": [
    "### Implementation - Extracting Feature Importance\n",
    "Choose a `scikit-learn` supervised learning algorithm that has a `feature_importance_` attribute availble for it. This attribute is a function that ranks the importance of each feature when making predictions based on the chosen algorithm.\n",
    "\n",
    "In the code cell below, you will need to implement the following:\n",
    " - Import a supervised learning model from sklearn if it is different from the three used earlier.\n",
    " - Train the supervised model on the entire training set.\n",
    " - Extract the feature importances using `'.feature_importances_'`."
   ]
  },
  {
   "cell_type": "code",
   "execution_count": 19,
   "metadata": {},
   "outputs": [
    {
     "data": {
      "image/png": "iVBORw0KGgoAAAANSUhEUgAAAoAAAAFgCAYAAAArYcg8AAAABHNCSVQICAgIfAhkiAAAAAlwSFlz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\nAMAwAhAAYBgBCAAwjAAEABjmE2VKnjGqcm+EAAAAAElFTkSuQmCC\n",
      "text/plain": [
       "<matplotlib.figure.Figure at 0x1c45c9b0>"
      ]
     },
     "metadata": {},
     "output_type": "display_data"
    }
   ],
   "source": [
    "# TODO: Import a supervised learning model that has 'feature_importances_'\n",
    "from sklearn.ensemble import AdaBoostClassifier\n",
    "\n",
    "# TODO: Train the supervised model on the training set using .fit(X_train, y_train)\n",
    "model = AdaBoostClassifier(n_estimators=100).fit(X_train, y_train)\n",
    "\n",
    "# TODO: Extract the feature importances using .feature_importances_ \n",
    "importances = model.feature_importances_\n",
    "\n",
    "# Plot\n",
    "vs.feature_plot(importances, X_train, y_train)"
   ]
  },
  {
   "cell_type": "markdown",
   "metadata": {},
   "source": [
    "### Question 7 - Extracting Feature Importance\n",
    "\n",
    "Observe the visualization created above which displays the five most relevant features for predicting if an individual makes at most or above \\$50,000.  \n",
    "* How do these five features compare to the five features you discussed in **Question 6**?\n",
    "* If you were close to the same answer, how does this visualization confirm your thoughts? \n",
    "* If you were not close, why do you think these features are more relevant?"
   ]
  },
  {
   "cell_type": "markdown",
   "metadata": {},
   "source": [
    "**Answer:\n",
    "\n",
    "Out of the 5 features I selected, only 3 were identified as relevant features.\n",
    "\n",
    "education, which I thought would be the Number 1 feature is a Number 5 feature.\n",
    "\n",
    "Capital gain which I conidered as a Number 2 feature is a Number 1 feature.\n",
    "\n",
    "I did not take capital-loss into account.But I now realize that capital-loss can be used to identify people who will not make more than $50000.May be in the back of my mind, I might have considered that capital-gain and capital-loss are inversely proportionate,which I know for a fact is not true.I did overlook this feature.I understand its relevancy now.\n",
    "\n",
    "The one other feature that I did not select was age.Age has been identified as the Number 3 feature.There usually is a age window where the earnings of an individual peaks.Age should have been taken into account.I was more focused on occupation and work class.The one-hot encoding might have watered it down.Instead of one-hot encoding, These fields should have been numerically categorized into ranges and scaled in a 0-1 range using Min max scaler.\n",
    "\n",
    "Hours per week also made into the list.I also selected hours per week and its significance matched what I had expected.\n",
    "**"
   ]
  },
  {
   "cell_type": "markdown",
   "metadata": {},
   "source": [
    "### Feature Selection\n",
    "How does a model perform if we only use a subset of all the available features in the data? With less features required to train, the expectation is that training and prediction time is much lower — at the cost of performance metrics. From the visualization above, we see that the top five most important features contribute more than half of the importance of **all** features present in the data. This hints that we can attempt to *reduce the feature space* and simplify the information required for the model to learn. The code cell below will use the same optimized model you found earlier, and train it on the same training set *with only the top five important features*. "
   ]
  },
  {
   "cell_type": "code",
   "execution_count": 17,
   "metadata": {},
   "outputs": [
    {
     "name": "stdout",
     "output_type": "stream",
     "text": [
      "Final Model trained on full data\n",
      "------\n",
      "Accuracy on testing data: 0.8418\n",
      "F-score on testing data: 0.6829\n",
      "\n",
      "Final Model trained on reduced data\n",
      "------\n",
      "Accuracy on testing data: 0.8057\n",
      "F-score on testing data: 0.5905\n"
     ]
    }
   ],
   "source": [
    "# Import functionality for cloning a model\n",
    "from sklearn.base import clone\n",
    "\n",
    "# Reduce the feature space\n",
    "X_train_reduced = X_train[X_train.columns.values[(np.argsort(importances)[::-1])[:5]]]\n",
    "X_test_reduced = X_test[X_test.columns.values[(np.argsort(importances)[::-1])[:5]]]\n",
    "\n",
    "# Train on the \"best\" model found from grid search earlier\n",
    "clf = (clone(best_clf)).fit(X_train_reduced, y_train)\n",
    "\n",
    "# Make new predictions\n",
    "reduced_predictions = clf.predict(X_test_reduced)\n",
    "\n",
    "# Report scores from the final model using both versions of data\n",
    "print \"Final Model trained on full data\\n------\"\n",
    "print \"Accuracy on testing data: {:.4f}\".format(accuracy_score(y_test, best_predictions))\n",
    "print \"F-score on testing data: {:.4f}\".format(fbeta_score(y_test, best_predictions, beta = 0.5))\n",
    "print \"\\nFinal Model trained on reduced data\\n------\"\n",
    "print \"Accuracy on testing data: {:.4f}\".format(accuracy_score(y_test, reduced_predictions))\n",
    "print \"F-score on testing data: {:.4f}\".format(fbeta_score(y_test, reduced_predictions, beta = 0.5))"
   ]
  },
  {
   "cell_type": "markdown",
   "metadata": {},
   "source": [
    "### Question 8 - Effects of Feature Selection\n",
    "\n",
    "* How does the final model's F-score and accuracy score on the reduced data using only five features compare to those same scores when all features are used?\n",
    "* If training time was a factor, would you consider using the reduced data as your training set?"
   ]
  },
  {
   "cell_type": "markdown",
   "metadata": {},
   "source": [
    "**Answer:\n",
    "\n",
    "The reduced data model selected has slightly lower accuracy and F-score compared to the model trained on full data.\n",
    "\n",
    "When asked to pick out features based on intuition, I selected features that were totally different from the feature importances that the models picked.I also feel that the features I selected didnot make the cut because of the way they were encoded.I agree that having reduced features might make the model simpler.But I question if it will make the model better.\n",
    "\n",
    "Looking at the accuracy and beta score for both models , it seems both these scores take a hit as we reduce the data.It seems in the pursuit of simplicity, we may lose out on the model's performance.\n",
    "\n",
    "If training time was a factor, instead of reducing data, I would rather focus on reducing the dimensionality of the data.I would do more pre-processing.My focus would be on reducing multiple features into single features so the data size shrinks without eliminating details of the underlying data.I would probably do this by combining related variables together by using some logic.For example, I may combine occupation and working class into a new variable, by providing a ranking for the combination and scaling the ranking.\n",
    "\n",
    "\n",
    "**"
   ]
  },
  {
   "cell_type": "markdown",
   "metadata": {},
   "source": [
    "> **Note**: Once you have completed all of the code implementations and successfully answered each question above, you may finalize your work by exporting the iPython Notebook as an HTML document. You can do this by using the menu above and navigating to  \n",
    "**File -> Download as -> HTML (.html)**. Include the finished document along with this notebook as your submission."
   ]
  }
 ],
 "metadata": {
  "kernelspec": {
   "display_name": "Python 2",
   "language": "python",
   "name": "python2"
  },
  "language_info": {
   "codemirror_mode": {
    "name": "ipython",
    "version": 2
   },
   "file_extension": ".py",
   "mimetype": "text/x-python",
   "name": "python",
   "nbconvert_exporter": "python",
   "pygments_lexer": "ipython2",
   "version": "2.7.13"
  }
 },
 "nbformat": 4,
 "nbformat_minor": 1
}
